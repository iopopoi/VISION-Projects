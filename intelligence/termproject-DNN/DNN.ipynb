{
 "cells": [
  {
   "cell_type": "markdown",
   "metadata": {},
   "source": [
    "# Term project - MNIST visualization<br>\n",
    "Deep neural network 구현 및 Visualization과 이를 통한 Neural network에 대한 이해 향상\n"
   ]
  },
  {
   "cell_type": "markdown",
   "metadata": {},
   "source": [
    "## MNIST dataset 불러 오기 및 시각화"
   ]
  },
  {
   "cell_type": "markdown",
   "metadata": {},
   "source": [
    "1. data에 대한 pca(2d라? 겹치는 경유 확인가능) + tsne결과 확인하기\n",
    "    둘의 차이 확인하기\n",
    "2. layer들의 dimension 확인\n",
    "\n",
    "• Input image에 대한 PCA, t-SNE 결과\n",
    "• hidden vector (a[0], z[1], a[1], z[2], a[2])에 대한 PCA, ,t-SNE결과\n",
    "    ->  총 10장\n",
    "• 결과 분석 (자유롭게)\n"
   ]
  },
  {
   "cell_type": "code",
   "execution_count": 1,
   "metadata": {},
   "outputs": [],
   "source": [
    "from __future__ import print_function\n",
    "\n",
    "import torch\n",
    "from torch import nn\n",
    "from torch import optim\n",
    "import numpy as np\n",
    "\n",
    "import time\n",
    "\n",
    "# dataset\n",
    "import torchvision \n",
    "from torchvision import datasets\n",
    "from torchvision import transforms\n",
    "\n",
    "import pandas as pd\n",
    "import matplotlib.pyplot as plt\n",
    "from mpl_toolkits.mplot3d import Axes3D\n",
    "\n",
    "# sklearn\n",
    "from sklearn.datasets import fetch_openml\n",
    "from sklearn.decomposition import PCA\n",
    "from sklearn.manifold import TSNE\n",
    "\n",
    "\n",
    "\n",
    "%matplotlib inline"
   ]
  },
  {
   "cell_type": "markdown",
   "metadata": {},
   "source": [
    "## Hyperparameter\n",
    "modeling 과정에서 직접 설정하는 값입니다.<br>\n",
    "- batch_size\n",
    "- learning rate : 학습률(gradient를 통해 weight를 이동, 변화시키는 정도)\n",
    "- epoch_nums : 학습을 반복하는 횟수\n",
    "- batch size : 한번의 batch마다 주어지는 data sample의 size (batch: 나누어진 dataset)\n",
    "- momentum : weight의 update과정에서 관성, 가속도를 주어 감소, 증가하는 방향으로 더 많은 변화를 준다."
   ]
  },
  {
   "cell_type": "code",
   "execution_count": 2,
   "metadata": {},
   "outputs": [],
   "source": [
    "batch_size = 12\n",
    "learning_rate = 0.01\n",
    "epoch_num = 10"
   ]
  },
  {
   "cell_type": "markdown",
   "metadata": {},
   "source": [
    "## MNIST dataset\n",
    "### torchvision.datasets.MNIST = (root=\"\", train=\"\", dawnload=\"\",trasform =\"\")\n",
    "root = \"data의 경로\" <br>\n",
    "train = True(학습용 데이터) or False(test용 데이터) <br>\n",
    "tramsform - 데이터 형태 <br>\n",
    "download = True(MNIST dataset이 없으면 다운로드한다.) <br>"
   ]
  },
  {
   "cell_type": "code",
   "execution_count": 3,
   "metadata": {},
   "outputs": [
    {
     "name": "stderr",
     "output_type": "stream",
     "text": [
      "D:\\develop\\Anaconda\\envs\\ai21\\lib\\site-packages\\torchvision\\datasets\\mnist.py:498: UserWarning: The given NumPy array is not writeable, and PyTorch does not support non-writeable tensors. This means you can write to the underlying (supposedly non-writeable) NumPy array using the tensor. You may want to copy the array to protect its data or make it writeable before converting it to a tensor. This type of warning will be suppressed for the rest of this program. (Triggered internally at  ..\\torch\\csrc\\utils\\tensor_numpy.cpp:180.)\n",
      "  return torch.from_numpy(parsed.astype(m[2], copy=False)).view(*s)\n"
     ]
    }
   ],
   "source": [
    "train_data = datasets.MNIST(root= '..\\datasets', train= True, download= True, transform= transforms.ToTensor())\n",
    "test_data = datasets.MNIST(root= '..\\datasets', train= False, download= True, transform= transforms.ToTensor())\n",
    "\n",
    "train_loader = torch.utils.data.DataLoader(train_data, batch_size=batch_size, shuffle=True)\n",
    "test_loader = torch.utils.data.DataLoader(test_data, batch_size=batch_size)"
   ]
  },
  {
   "cell_type": "markdown",
   "metadata": {},
   "source": [
    "# Deep Neural Network\n",
    "## input layer와 ouput layer사이에 hidden layer를 2개이상 지닌 neural network을 의미합니다.\n",
    "분류와 수치예측을 주목적으로 하여 이미지 학습과 문자인식에 유용하게 사용되고 있는 신경망입니다.\n",
    "\n",
    "## Using squential \n",
    "squential하여 내부  module에 접급하지 않는다."
   ]
  },
  {
   "cell_type": "code",
   "execution_count": 11,
   "metadata": {},
   "outputs": [],
   "source": [
    "class DeepNN(nn.Module):\n",
    "    def __init__(self):\n",
    "        super().__init__()\n",
    "\n",
    "        self.in_dim = 28 * 28 # MNIST\n",
    "        self.out_dim = 10 # 0 ~ 9\n",
    "        \n",
    "        self.model = nn.Sequential(\n",
    "            nn.Linear(in_features = self.in_dim, out_features = 512),\n",
    "            nn.ReLU(),\n",
    "            nn.Linear(in_features = 512, out_features = 256),\n",
    "            nn.ReLU(),\n",
    "            nn.Linear(in_features = 256, out_features = 128),\n",
    "            nn.ReLU(),\n",
    "            nn.Linear(in_features = 128, out_features = 64),\n",
    "            nn.ReLU(),\n",
    "            nn.Linear(in_features = 64, out_features = self.out_dim)\n",
    "        )\n",
    "\n",
    "    def forward(self, x):\n",
    "        return self.model(x.view(-1, self.in_dim))\n",
    "\n"
   ]
  },
  {
   "cell_type": "markdown",
   "metadata": {},
   "source": [
    "## Train"
   ]
  },
  {
   "cell_type": "code",
   "execution_count": 12,
   "metadata": {},
   "outputs": [
    {
     "name": "stdout",
     "output_type": "stream",
     "text": [
      "[1,  2000] loss: 2.176\n",
      "[1,  4000] loss: 0.680\n",
      "[2,  2000] loss: 0.296\n",
      "[2,  4000] loss: 0.222\n",
      "[3,  2000] loss: 0.162\n",
      "[3,  4000] loss: 0.142\n",
      "[4,  2000] loss: 0.113\n",
      "[4,  4000] loss: 0.105\n",
      "[5,  2000] loss: 0.081\n",
      "[5,  4000] loss: 0.083\n",
      "[6,  2000] loss: 0.060\n",
      "[6,  4000] loss: 0.067\n",
      "[7,  2000] loss: 0.047\n",
      "[7,  4000] loss: 0.051\n",
      "[8,  2000] loss: 0.036\n",
      "[8,  4000] loss: 0.043\n",
      "[9,  2000] loss: 0.030\n",
      "[9,  4000] loss: 0.031\n",
      "[10,  2000] loss: 0.025\n",
      "[10,  4000] loss: 0.024\n",
      "Finished training\n"
     ]
    }
   ],
   "source": [
    "model = DeepNN()\n",
    "criterion = nn.CrossEntropyLoss()\n",
    "optimizer = optim.SGD(model.parameters(), lr = learning_rate)\n",
    "\n",
    "for epoch in range(epoch_num):\n",
    "    running_loss = 0.0\n",
    "    for i, data in enumerate(train_loader, 0):\n",
    "        # get the inputs: data is a list of [input, label]\n",
    "        inputs, labels = data\n",
    "\n",
    "        # zero the parameter gradients\n",
    "        optimizer.zero_grad()\n",
    "\n",
    "        # forward, backward, optimizer\n",
    "        outputs = model(inputs)\n",
    "        \n",
    "        loss = criterion(outputs, labels) # loss\n",
    "        loss.backward() # backward\n",
    "        optimizer.step()\n",
    "\n",
    "        # print statistics\n",
    "        running_loss += loss.item()\n",
    "        if (i+1) % 2000 == 0 : # print every 2000 mini-batch\n",
    "            print(\"[%d, %5d] loss: %.3f\" % (epoch+1, i+1, running_loss/2000) )\n",
    "            running_loss = 0.0\n",
    "print(\"Finished training\")"
   ]
  },
  {
   "cell_type": "markdown",
   "metadata": {},
   "source": [
    "## Using ModuleList\n",
    "Module을 리스트 형태로 담을 때 사용합니다. ModuleList에서는 module하나하나에 접근이 가능하다."
   ]
  },
  {
   "cell_type": "code",
   "execution_count": 15,
   "metadata": {},
   "outputs": [],
   "source": [
    "# Using ModuleList\n",
    "class DeepNN_ML(nn.Module):\n",
    "    def __init__(self):\n",
    "        super(DeepNN_ML, self).__init__()\n",
    "\n",
    "        self.in_dim = 28 * 28 # MNIST\n",
    "        self.out_dim = 10 # 0 ~ 9\n",
    "        sizes = [[self.in_dim, 512], [512, 256],[256, 128],[128,64]]\n",
    "        \n",
    "        self.list = nn.ModuleList([\n",
    "            nn.Linear(in_features = self.in_dim, out_features = 512),\n",
    "            nn.ReLU(),\n",
    "            nn.Linear(in_features = 512, out_features = 256),\n",
    "            nn.ReLU(),\n",
    "            nn.Linear(in_features = 256, out_features = 128),\n",
    "            nn.ReLU(),\n",
    "            nn.Linear(in_features = 128, out_features = 64),\n",
    "            nn.ReLU(),\n",
    "            nn.Linear(in_features = 64, out_features = self.out_dim)\n",
    "        ])\n",
    "\n",
    "    def forward(self, x):\n",
    "        fw = x.view(-1, self.in_dim)\n",
    "        for module in self.list:\n",
    "            fw = module(fw)\n",
    "        return fw\n",
    "\n"
   ]
  },
  {
   "cell_type": "code",
   "execution_count": 17,
   "metadata": {},
   "outputs": [
    {
     "name": "stdout",
     "output_type": "stream",
     "text": [
      "[1,  2000] loss: 2.102\n",
      "[1,  4000] loss: 0.658\n",
      "[2,  2000] loss: 0.295\n",
      "[2,  4000] loss: 0.227\n",
      "[3,  2000] loss: 0.151\n",
      "[3,  4000] loss: 0.135\n",
      "[4,  2000] loss: 0.105\n",
      "[4,  4000] loss: 0.098\n",
      "[5,  2000] loss: 0.079\n",
      "[5,  4000] loss: 0.075\n",
      "[6,  2000] loss: 0.057\n",
      "[6,  4000] loss: 0.062\n",
      "[7,  2000] loss: 0.046\n",
      "[7,  4000] loss: 0.049\n",
      "[8,  2000] loss: 0.038\n",
      "[8,  4000] loss: 0.039\n",
      "[9,  2000] loss: 0.028\n",
      "[9,  4000] loss: 0.032\n",
      "[10,  2000] loss: 0.024\n",
      "[10,  4000] loss: 0.024\n",
      "Finished training\n"
     ]
    }
   ],
   "source": [
    "model_ML = DeepNN_ML()\n",
    "criterion_ML = nn.CrossEntropyLoss()\n",
    "optimizer_ML = optim.SGD(model_ML.parameters(), lr = learning_rate)\n",
    "\n",
    "for epoch in range(epoch_num):\n",
    "    running_loss = 0.0\n",
    "    for i, data in enumerate(train_loader, 0):\n",
    "        # get the inputs: data is a list of [input, label]\n",
    "        inputs, labels = data\n",
    "\n",
    "        # zero the parameter gradients\n",
    "        optimizer_ML.zero_grad()\n",
    "\n",
    "        # forward, backward, optimizer\n",
    "        outputs = model_ML(inputs)\n",
    "        \n",
    "        loss = criterion_ML(outputs, labels) # loss\n",
    "        loss.backward() # backward\n",
    "        optimizer_ML.step()\n",
    "\n",
    "        # print statistics\n",
    "        running_loss += loss.item()\n",
    "        if (i+1) % 2000 == 0 : # print every 2000 mini-batch\n",
    "            print(\"[%d, %5d] loss: %.3f\" % (epoch+1, i+1, running_loss/2000) )\n",
    "            running_loss = 0.0\n",
    "print(\"Finished training\")"
   ]
  },
  {
   "cell_type": "markdown",
   "metadata": {},
   "source": [
    "## Test"
   ]
  },
  {
   "cell_type": "code",
   "execution_count": null,
   "metadata": {},
   "outputs": [],
   "source": [
    "def imshow(img):\n",
    "    npimg = img.numpy()\n",
    "    plt.imshow(np.transpose(npimg,(1,2,0)))\n",
    "    plt.show()"
   ]
  },
  {
   "cell_type": "code",
   "execution_count": null,
   "metadata": {},
   "outputs": [
    {
     "data": {
      "image/png": "[encoded data removed]",
      "text/plain": [
       "<Figure size 432x288 with 1 Axes>"
      ]
     },
     "metadata": {
      "needs_background": "light"
     },
     "output_type": "display_data"
    },
    {
     "name": "stdout",
     "output_type": "stream",
     "text": [
      "Ground truth\n",
      "   7   2   1   0   4   1   4   9   5   9   0   6\n",
      "Predicted\n",
      "   7   2   1   0   4   1   4   9   6   9   0   6\n"
     ]
    }
   ],
   "source": [
    "dataiter = iter(test_loader)\n",
    "images, labels = dataiter.next()\n",
    "\n",
    "imshow(torchvision.utils.make_grid(images, nrow = batch_size))\n",
    "print('Ground truth')\n",
    "print(\" \"+\" \".join(\"%3s\" % label.item() for label in labels))\n",
    "\n",
    "outputs = model(images)\n",
    "_, pred = torch.max(outputs, 1)\n",
    "print(\"Predicted\")\n",
    "print(\" \"+\" \".join(\"%3s\" % label.item() for label in pred))"
   ]
  }
 ],
 "metadata": {
  "interpreter": {
   "hash": "a699302accf0dd49589cc59e863a793f2e26d9be8786b40f18cd587a7dd1ecfb"
  },
  "kernelspec": {
   "display_name": "Python 3.8.11 64-bit ('ai21': conda)",
   "name": "python3"
  },
  "language_info": {
   "codemirror_mode": {
    "name": "ipython",
    "version": 3
   },
   "file_extension": ".py",
   "mimetype": "text/x-python",
   "name": "python",
   "nbconvert_exporter": "python",
   "pygments_lexer": "ipython3",
   "version": "3.8.11"
  },
  "orig_nbformat": 4
 },
 "nbformat": 4,
 "nbformat_minor": 2
}
