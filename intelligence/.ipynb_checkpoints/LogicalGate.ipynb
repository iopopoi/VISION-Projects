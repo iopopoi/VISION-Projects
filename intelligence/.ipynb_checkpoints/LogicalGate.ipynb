{
 "cells": [
  {
   "cell_type": "code",
   "execution_count": 142,
   "id": "5bb6e665",
   "metadata": {},
   "outputs": [],
   "source": [
    "import numpy as np\n",
    "import random\n",
    "from math import exp,log\n",
    "import matplotlib.pyplot as plt\n",
    "import pandas as pd"
   ]
  },
  {
   "cell_type": "code",
   "execution_count": 143,
   "id": "b18ed748",
   "metadata": {},
   "outputs": [],
   "source": [
    "# Logical  Gate 학습을 위한 data\n",
    "X = np.array([(0,0),(1,0),(0,1),(1,1)])\n",
    "Y_AND = np.array([0,0,0,1])\n",
    "Y_OR = np.array([0,1,1,1])\n",
    "Y_XOR = np.array([0,1,1,0])\n",
    "epoch_num = 100000\n",
    "# learning_rate = 0.1\n",
    "# learning_rate = 0.01\n",
    "learning_rate = 0.005\n",
    "# learning_rate = 0.001"
   ]
  },
  {
   "cell_type": "code",
   "execution_count": 144,
   "id": "5481bd96",
   "metadata": {},
   "outputs": [],
   "source": [
    "class logistic_regression_model():\n",
    "    def __init__(self):\n",
    "        self.w = np.random.normal(size=2)\n",
    "        self.b = np.random.normal(size=1)\n",
    "        \n",
    "    def sigmoid(self,z):\n",
    "        return 1/(1+exp(-z))\n",
    "    \n",
    "    def predict(self, x):\n",
    "        z = np.inner(self.w, x) + self.b\n",
    "        a = self.sigmoid(z)\n",
    "        return a"
   ]
  },
  {
   "cell_type": "code",
   "execution_count": 145,
   "id": "bf6577fd",
   "metadata": {},
   "outputs": [],
   "source": [
    "def train(X, Y, model, lr = 0.1):\n",
    "    dw = np.array([0.0,0.0])\n",
    "    db = 0.0\n",
    "    m = len(X)\n",
    "    cost = 0.0\n",
    "    \n",
    "    for x,y in zip(X, Y):\n",
    "        a = model.predict(x)\n",
    "        if y == 1:\n",
    "            cost -= log(a)\n",
    "        else:\n",
    "            cost -= log(1-a)\n",
    "    \n",
    "        dw += (a-y)*x\n",
    "        db += (a-y)\n",
    "        \n",
    "    cost /= m\n",
    "    model.w -= lr * dw/m\n",
    "    model.b -= lr*db/m\n",
    "    return cost"
   ]
  },
  {
   "cell_type": "code",
   "execution_count": 146,
   "id": "210e3c52",
   "metadata": {},
   "outputs": [],
   "source": [
    "def AND(model):\n",
    "    cost_list = []\n",
    "    for epoch in range(epoch_num):\n",
    "        cost = train(X, Y_AND, model, learning_rate)\n",
    "        cost_list.append(cost)\n",
    "    return cost_list\n",
    "    \n",
    "def OR(model):\n",
    "    cost_list = []\n",
    "    for epoch in range(epoch_num):\n",
    "        cost = train(X, Y_OR, model, learning_rate)\n",
    "        cost_list.append(cost)\n",
    "    return cost_list\n",
    "\n",
    "def XOR(model):\n",
    "    cost_list = []\n",
    "    for epoch in range(epoch_num):\n",
    "        cost = train(X, Y_XOR, model, learning_rate)\n",
    "        cost_list.append(cost)\n",
    "    return cost_list"
   ]
  },
  {
   "cell_type": "code",
   "execution_count": 147,
   "id": "46689278",
   "metadata": {},
   "outputs": [],
   "source": [
    "# AND, OR, XOP paremeter들의 학습과정에서 얻는 cost들을 graph로 표현한다.\n",
    "def graph(epoch_num, And, Or, Xor):\n",
    "    x = range(0,epoch_num)\n",
    "    plt.figure(figsize=(18,6))\n",
    "    # AND\n",
    "    plt.subplot(131)\n",
    "    plt.title(\"AND\")\n",
    "    plt.plot(x,And)\n",
    "    #OR\n",
    "    plt.subplot(132)\n",
    "    plt.title(\"OR\")\n",
    "    plt.plot(x,Or)\n",
    "    #XOR\n",
    "    plt.subplot(133)\n",
    "    plt.title(\"XOR\")\n",
    "    plt.plot(x,Xor)\n",
    "    plt.show()\n",
    "    \n",
    "# AND, OR, XOP paremeter들의 학습과정에서 얻는 cost들을 table로 표현한다..   \n",
    "def table(epoch_num, And, Or, Xor):\n",
    "    source = {'Logical AND':And ,'Logical OR':Or ,'Logical XOR':Xor }\n",
    "    data = pd.DataFrame(source)\n",
    "    print(\"0~10000\")\n",
    "    print(data)\n",
    "    \n",
    "    extrac = []\n",
    "    for i in range(epoch_num):\n",
    "        if i % 100 == 0:\n",
    "            extrac.append([And[i],Or[i],Xor[i]])\n",
    "    E = np.array(extrac)\n",
    "    Esource = {'Logical AND':E[:,0] ,'Logical OR':E[:,1] ,'Logical XOR':E[:,2]}\n",
    "    Edata = pd.DataFrame(Esource)\n",
    "    print(Edata)"
   ]
  },
  {
   "cell_type": "code",
   "execution_count": 148,
   "id": "9ea6e16e",
   "metadata": {},
   "outputs": [
    {
     "data": {
      "image/png": "[encoded data removed]",
      "text/plain": [
       "<Figure size 1296x432 with 3 Axes>"
      ]
     },
     "metadata": {
      "needs_background": "light"
     },
     "output_type": "display_data"
    },
    {
     "name": "stdout",
     "output_type": "stream",
     "text": [
      "0~10000\n",
      "       Logical AND  Logical OR  Logical XOR\n",
      "0         0.868703    0.222975     1.112123\n",
      "1         0.868244    0.222952     1.111418\n",
      "2         0.867785    0.222929     1.110713\n",
      "3         0.867327    0.222906     1.110010\n",
      "4         0.866870    0.222883     1.109308\n",
      "...            ...         ...          ...\n",
      "99995     0.034825    0.017750     0.693147\n",
      "99996     0.034825    0.017749     0.693147\n",
      "99997     0.034824    0.017749     0.693147\n",
      "99998     0.034824    0.017749     0.693147\n",
      "99999     0.034824    0.017749     0.693147\n",
      "\n",
      "[100000 rows x 3 columns]\n",
      "     Logical AND  Logical OR  Logical XOR\n",
      "0       0.868703    0.222975     1.112123\n",
      "1       0.826921    0.220692     1.047942\n",
      "2       0.792177    0.218458     0.995671\n",
      "3       0.762740    0.216271     0.953591\n",
      "4       0.737323    0.214130     0.919931\n",
      "..           ...         ...          ...\n",
      "995     0.034995    0.017834     0.693147\n",
      "996     0.034960    0.017817     0.693147\n",
      "997     0.034926    0.017800     0.693147\n",
      "998     0.034892    0.017783     0.693147\n",
      "999     0.034857    0.017766     0.693147\n",
      "\n",
      "[1000 rows x 3 columns]\n"
     ]
    }
   ],
   "source": [
    "# 학습시킨 model의 결과를 확인한다.\n",
    "def model_test(And, Or, Xor,X):\n",
    "    gate = [And, Or, Xor]\n",
    "    gate_name = [\"AND\",\"OR\",\"XOR\"]\n",
    "    for i in range(3):\n",
    "        print(gate_name[i])\n",
    "        for x in X:\n",
    "            print(x, gate[i].predict(x))\n",
    "            \n",
    "# and, or, xor model을 생성하고 학습한다.  \n",
    "#parameter별 model\n",
    "and_model = logistic_regression_model()\n",
    "or_model = logistic_regression_model()\n",
    "xor_model = logistic_regression_model()\n",
    "\n",
    "And = AND(and_model)\n",
    "Or = OR(or_model)\n",
    "Xor = XOR(xor_model)\n",
    "\n",
    "# cost변화 확인하기\n",
    "graph(epoch_num, And, Or, Xor)\n",
    "table(epoch_num, And, Or, Xor)"
   ]
  },
  {
   "cell_type": "code",
   "execution_count": 149,
   "id": "3dbe619d",
   "metadata": {
    "scrolled": false
   },
   "outputs": [
    {
     "name": "stdout",
     "output_type": "stream",
     "text": [
      "AND\n",
      "[0 0] 0.000102758387997585\n",
      "[1 0] 0.03995467589909155\n",
      "[0 1] 0.03995620970666051\n",
      "[1 1] 0.9439906553329915\n",
      "OR\n",
      "[0 0] 0.038923479579718784\n",
      "[1 0] 0.9845361075135772\n",
      "[0 1] 0.9844238423005939\n",
      "[1 1] 0.9999899349785712\n",
      "XOR\n",
      "[0 0] 0.5000000006415464\n",
      "[1 0] 0.5000000001006655\n",
      "[0 1] 0.5000000001006898\n",
      "[1 1] 0.499999999559809\n"
     ]
    }
   ],
   "source": [
    "model_test(and_model, or_model, xor_model,X)"
   ]
  }
 ],
 "metadata": {
  "kernelspec": {
   "display_name": "Python 3 (ipykernel)",
   "language": "python",
   "name": "python3"
  },
  "language_info": {
   "codemirror_mode": {
    "name": "ipython",
    "version": 3
   },
   "file_extension": ".py",
   "mimetype": "text/x-python",
   "name": "python",
   "nbconvert_exporter": "python",
   "pygments_lexer": "ipython3",
   "version": "3.8.11"
  }
 },
 "nbformat": 4,
 "nbformat_minor": 5
}
