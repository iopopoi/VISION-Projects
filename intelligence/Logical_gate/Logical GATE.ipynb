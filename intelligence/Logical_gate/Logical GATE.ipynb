{
 "cells": [
  {
   "cell_type": "code",
   "execution_count": 1,
   "id": "5bb6e665",
   "metadata": {},
   "outputs": [],
   "source": [
    "import numpy as np\n",
    "import random\n",
    "from math import exp,log\n",
    "import matplotlib.pyplot as plt\n",
    "import pandas as pd"
   ]
  },
  {
   "cell_type": "code",
   "execution_count": 2,
   "id": "b18ed748",
   "metadata": {},
   "outputs": [],
   "source": [
    "# Logical  AND 학습을 위한 data\n",
    "X = np.array([(0,0),(1,0),(0,1),(1,1)])\n",
    "Y_AND = np.array([0,0,0,1])\n",
    "Y_OR = np.array([0,1,1,1])\n",
    "Y_XOR = np.array([0,1,1,0])\n",
    "epoch_num = 10000"
   ]
  },
  {
   "cell_type": "code",
   "execution_count": 3,
   "id": "5481bd96",
   "metadata": {},
   "outputs": [],
   "source": [
    "class logistic_regression_model():\n",
    "    def __init__(self):\n",
    "        self.w = np.random.normal(size=2)\n",
    "        self.b = np.random.normal(size=1)\n",
    "        \n",
    "    def sigmoid(self,z):\n",
    "        return 1/(1+exp(-z))\n",
    "    \n",
    "    def predict(self, x):\n",
    "        z = np.inner(self.w, x) + self.b\n",
    "        a = self.sigmoid(z)\n",
    "        return a"
   ]
  },
  {
   "cell_type": "code",
   "execution_count": 4,
   "id": "bf6577fd",
   "metadata": {},
   "outputs": [],
   "source": [
    "def train(X, Y, model, lr = 0.1):\n",
    "    dw = np.array([0.0,0.0])\n",
    "    db = 0.0\n",
    "    m = len(X)\n",
    "    cost = 0.0\n",
    "    \n",
    "    for x,y in zip(X, Y):\n",
    "        a = model.predict(x)\n",
    "        if y == 1:\n",
    "            cost -= log(a)\n",
    "        else:\n",
    "            cost -= log(1-a)\n",
    "    \n",
    "        dw += (a-y)*x\n",
    "        db += (a-y)\n",
    "        \n",
    "    cost /= m\n",
    "    model.w -= lr * dw/m\n",
    "    model.b -= lr*db/m\n",
    "    return cost"
   ]
  },
  {
   "cell_type": "code",
   "execution_count": 5,
   "id": "210e3c52",
   "metadata": {},
   "outputs": [],
   "source": [
    "def AND(model):\n",
    "    cost_list = []\n",
    "    for epoch in range(epoch_num):\n",
    "        cost = train(X, Y_AND, model, 0.1)\n",
    "        cost_list.append(cost)\n",
    "    return cost_list\n",
    "    \n",
    "def OR(model):\n",
    "    cost_list = []\n",
    "    for epoch in range(epoch_num):\n",
    "        cost = train(X, Y_OR, model, 0.1)\n",
    "        cost_list.append(cost)\n",
    "    return cost_list\n",
    "\n",
    "def XOR(model):\n",
    "    cost_list = []\n",
    "    for epoch in range(epoch_num):\n",
    "        cost = train(X, Y_XOR, model, 0.1)\n",
    "        cost_list.append(cost)\n",
    "    return cost_list"
   ]
  },
  {
   "cell_type": "code",
   "execution_count": 6,
   "id": "46689278",
   "metadata": {},
   "outputs": [],
   "source": [
    "# AND, OR, XOP paremeter들의 학습과정에서 얻는 cost들을 graph로 표현한다.\n",
    "def graph(epoch_num, And, Or, Xor):\n",
    "    x = range(0,epoch_num)\n",
    "    plt.figure(figsize=(18,6))\n",
    "    # AND\n",
    "    plt.subplot(131)\n",
    "    plt.title(\"AND\")\n",
    "    plt.plot(x,And)\n",
    "    #OR\n",
    "    plt.subplot(132)\n",
    "    plt.title(\"OR\")\n",
    "    plt.plot(x,Or)\n",
    "    #XOR\n",
    "    plt.subplot(133)\n",
    "    plt.title(\"XOR\")\n",
    "    plt.plot(x,Xor)\n",
    "    plt.show()\n",
    "# AND, OR, XOP paremeter들의 학습과정에서 얻는 cost들을 table로 표현한다..   \n",
    "def table(epoch_num, And, Or, Xor):\n",
    "    source = {'Logical AND':And ,'Logical OR':Or ,'Logical XOR':Xor }\n",
    "    data = pd.DataFrame(source)\n",
    "    print(\"0~10000\")\n",
    "    print(data)\n",
    "    \n",
    "    extrac = []\n",
    "    for i in range(epoch_num):\n",
    "        if i % 100 == 0:\n",
    "            extrac.append([And[i],Or[i],Xor[i]])\n",
    "    E = np.array(extrac)\n",
    "    Esource = {'Logical AND':E[:,0] ,'Logical OR':E[:,1] ,'Logical XOR':E[:,2]}\n",
    "    Edata = pd.DataFrame(Esource)\n",
    "    print(\"0~10000 >> 0~100 (100epoch에 따른 결과변화)\")\n",
    "    print(Edata)"
   ]
  },
  {
   "cell_type": "code",
   "execution_count": 13,
   "id": "9ea6e16e",
   "metadata": {},
   "outputs": [],
   "source": [
    "# 학습시킨 model의 결과를 확인한다.\n",
    "def model_test(And, Or, Xor,X):\n",
    "    gate = [And, Or, Xor]\n",
    "    gate_name = [\"AND\",\"OR\",\"XOR\"]\n",
    "    for i in range(3):\n",
    "        print(gate_name[i])\n",
    "        for x in X:\n",
    "            print(x, gate[i].predict(x))\n",
    "            \n",
    "# and, or, xor model을 생성하고 학습한다.  \n",
    "def main():\n",
    "    #parameter별 model\n",
    "    and_model = logistic_regression_model()\n",
    "    or_model = logistic_regression_model()\n",
    "    xor_model = logistic_regression_model()\n",
    "    \n",
    "    And = AND(and_model)\n",
    "    Or = OR(or_model)\n",
    "    Xor = XOR(xor_model)\n",
    "    \n",
    "    # cost변화 확인하기\n",
    "    graph(epoch_num, And, Or, Xor)\n",
    "    table(epoch_num, And, Or, Xor)\n",
    "    model_test(and_model, or_model, xor_model,X)"
   ]
  },
  {
   "cell_type": "code",
   "execution_count": 14,
   "id": "3dbe619d",
   "metadata": {
    "scrolled": false
   },
   "outputs": [
    {
     "data": {
      "image/png": "[encoded data removed]",
      "text/plain": [
       "<Figure size 1296x432 with 3 Axes>"
      ]
     },
     "metadata": {
      "needs_background": "light"
     },
     "output_type": "display_data"
    },
    {
     "name": "stdout",
     "output_type": "stream",
     "text": [
      "0~10000\n",
      "      Logical AND  Logical OR  Logical XOR\n",
      "0        0.701441    1.113448     1.392823\n",
      "1        0.698295    1.079151     1.366031\n",
      "2        0.695183    1.046831     1.339737\n",
      "3        0.692106    1.016414     1.313956\n",
      "4        0.689062    0.987826     1.288702\n",
      "...           ...         ...          ...\n",
      "9995     0.017482    0.009398     0.693147\n",
      "9996     0.017480    0.009397     0.693147\n",
      "9997     0.017478    0.009396     0.693147\n",
      "9998     0.017476    0.009395     0.693147\n",
      "9999     0.017475    0.009394     0.693147\n",
      "\n",
      "[10000 rows x 3 columns]\n",
      "0~10000 >> 0~100 (100epoch에 따른 결과변화)\n",
      "    Logical AND  Logical OR  Logical XOR\n",
      "0      0.701441    1.113448     1.392823\n",
      "1      0.487526    0.457049     0.698392\n",
      "2      0.377211    0.337859     0.694749\n",
      "3      0.310765    0.263934     0.693734\n",
      "4      0.265842    0.215036     0.693374\n",
      "..          ...         ...          ...\n",
      "95     0.018396    0.009902     0.693147\n",
      "96     0.018204    0.009796     0.693147\n",
      "97     0.018015    0.009692     0.693147\n",
      "98     0.017831    0.009590     0.693147\n",
      "99     0.017650    0.009491     0.693147\n",
      "\n",
      "[100 rows x 3 columns]\n",
      "AND\n",
      "[0 0] 1.2573314897543032e-05\n",
      "[1 0] 0.020304715808066472\n",
      "[0 1] 0.020304722474372046\n",
      "[1 1] 0.9715610595490355\n",
      "OR\n",
      "[0 0] 0.020727391621995037\n",
      "[1 0] 0.9917192108805185\n",
      "[0 1] 0.9917243867566792\n",
      "[1 1] 0.9999985252018043\n",
      "XOR\n",
      "[0 0] 0.5\n",
      "[1 0] 0.5\n",
      "[0 1] 0.5\n",
      "[1 1] 0.5\n"
     ]
    }
   ],
   "source": [
    "main()"
   ]
  },
  {
   "cell_type": "code",
   "execution_count": null,
   "id": "f3a37f32",
   "metadata": {},
   "outputs": [],
   "source": []
  }
 ],
 "metadata": {
  "interpreter": {
   "hash": "a699302accf0dd49589cc59e863a793f2e26d9be8786b40f18cd587a7dd1ecfb"
  },
  "kernelspec": {
   "display_name": "Python 3.8.11 64-bit ('ai21': conda)",
   "name": "python3"
  },
  "language_info": {
   "codemirror_mode": {
    "name": "ipython",
    "version": 3
   },
   "file_extension": ".py",
   "mimetype": "text/x-python",
   "name": "python",
   "nbconvert_exporter": "python",
   "pygments_lexer": "ipython3",
   "version": "3.8.11"
  }
 },
 "nbformat": 4,
 "nbformat_minor": 5
}
