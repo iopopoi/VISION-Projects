{
 "cells": [
  {
   "cell_type": "code",
   "execution_count": 2,
   "id": "f8b9fd10",
   "metadata": {},
   "outputs": [
    {
     "name": "stdout",
     "output_type": "stream",
     "text": [
      "i:0, x:a\n",
      "i:1, x:b\n",
      "i:2, x:c\n"
     ]
    }
   ],
   "source": [
    "# sklearn을 이용하여 hierarchical clustering 구현하기\n",
    "for i,x in enumerate(('A','B','C')):\n",
    "    print(\"i:{}, x:{}\".format(i,x))"
   ]
  },
  {
   "cell_type": "code",
   "execution_count": 4,
   "id": "46da441f",
   "metadata": {},
   "outputs": [
    {
     "name": "stdout",
     "output_type": "stream",
     "text": [
      "i:0, x:A\n",
      "i:1, x:B\n",
      "i:2, x:C\n"
     ]
    }
   ],
   "source": [
    "# sklearn을 이용하여 hierarchical clustering 구현하기\n",
    "from sklearn.cluster import AgglomerativeClustering\n",
    "for i,linkage in enumerate('A','B','C')):\n",
    "    print(\"i:{}, x:{}\".format(i,x))"
   ]
  }
 ],
 "metadata": {
  "kernelspec": {
   "display_name": "Python 3 (ipykernel)",
   "language": "python",
   "name": "python3"
  },
  "language_info": {
   "codemirror_mode": {
    "name": "ipython",
    "version": 3
   },
   "file_extension": ".py",
   "mimetype": "text/x-python",
   "name": "python",
   "nbconvert_exporter": "python",
   "pygments_lexer": "ipython3",
   "version": "3.8.11"
  }
 },
 "nbformat": 4,
 "nbformat_minor": 5
}
