{
 "cells": [
  {
   "cell_type": "code",
   "execution_count": 2,
   "id": "08c9404e",
   "metadata": {},
   "outputs": [
    {
     "name": "stdout",
     "output_type": "stream",
     "text": [
      "i:0, x:a\n",
      "i:1, x:b\n",
      "i:2, x:c\n"
     ]
    }
   ],
   "source": [
    "# sklearn을 이용하여 hierarchical clustering 구현하기\n",
    "for i,x in enumerate(('a','b','c')):\n",
    "    print(\"i:{}, x:{}\".format(i,x))"
   ]
  }
 ],
 "metadata": {
  "kernelspec": {
   "display_name": "Python 3 (ipykernel)",
   "language": "python",
   "name": "python3"
  },
  "language_info": {
   "codemirror_mode": {
    "name": "ipython",
    "version": 3
   },
   "file_extension": ".py",
   "mimetype": "text/x-python",
   "name": "python",
   "nbconvert_exporter": "python",
   "pygments_lexer": "ipython3",
   "version": "3.8.11"
  }
 },
 "nbformat": 4,
 "nbformat_minor": 5
}
