{
 "cells": [
  {
   "cell_type": "markdown",
   "metadata": {},
   "source": [
    "## make MNIST data to RGB images\n",
    "\n",
    "[참고자료](https://www.wouterbulten.nl/blog/tech/getting-started-with-gans-2-colorful-mnist/)"
   ]
  },
  {
   "cell_type": "code",
   "execution_count": 24,
   "metadata": {},
   "outputs": [],
   "source": [
    "import argparse\n",
    "import os\n",
    "import matplotlib.pyplot as plt\n",
    "import torch\n",
    "from torch.utils.data import Dataset, DataLoader\n",
    "from model import RobustModel\n",
    "import numpy as np\n",
    "import scipy.ndimage\n",
    "from PIL import Image as PILImage\n",
    "\n",
    "# dataset\n",
    "import torchvision \n",
    "from torchvision import datasets\n",
    "from torchvision import transforms\n",
    "\n",
    "import cv2"
   ]
  },
  {
   "cell_type": "code",
   "execution_count": 25,
   "metadata": {},
   "outputs": [],
   "source": [
    "batch_size = 10"
   ]
  },
  {
   "cell_type": "code",
   "execution_count": 26,
   "metadata": {},
   "outputs": [],
   "source": [
    "train_data = datasets.MNIST(root= '..\\datasets', train= True, download= True, transform= transforms.ToTensor())\n",
    "test_data = datasets.MNIST(root= '..\\datasets', train= False, download= True, transform= transforms.ToTensor())\n",
    "\n",
    "train_loader = torch.utils.data.DataLoader(train_data, batch_size=batch_size, shuffle=True)\n",
    "test_loader = torch.utils.data.DataLoader(test_data, batch_size=batch_size)"
   ]
  },
  {
   "cell_type": "code",
   "execution_count": 27,
   "metadata": {},
   "outputs": [],
   "source": [
    "# Read Lena image\n",
    "lena = PILImage.open('resources/lena.png')"
   ]
  },
  {
   "cell_type": "code",
   "execution_count": 29,
   "metadata": {},
   "outputs": [],
   "source": [
    "datas = []\n",
    "labels = []\n",
    "for i, data in enumerate(train_loader):\n",
    "    x_train, label = data\n",
    "    # Select random batch (WxHxC)\n",
    "    batch_raw = x_train.reshape((batch_size, 28, 28, 1))\n",
    "    \n",
    "    # Resize\n",
    "    batch_resized = np.asarray([scipy.ndimage.zoom(image, (2.3, 2.3, 1), order=1) for image in batch_raw])\n",
    "    \n",
    "    # Extend to RGB\n",
    "    batch_rgb = np.concatenate([batch_resized, batch_resized, batch_resized], axis=3)\n",
    "    \n",
    "    # Make binary\n",
    "    batch_binary = (batch_rgb > 0.5)\n",
    "    \n",
    "    batch = np.zeros((batch_size, 64, 64, 3))\n",
    "    for i in range(batch_size):\n",
    "        # Take a random crop of the Lena image (background)\n",
    "        x_c = np.random.randint(0, lena.size[0] - 64)\n",
    "        y_c = np.random.randint(0, lena.size[1] - 64)\n",
    "        image = lena.crop((x_c, y_c, x_c + 64, y_c + 64))\n",
    "        image = np.asarray(image) / 255.0\n",
    "\n",
    "        # Change color distribution\n",
    "        for j in range(3):\n",
    "            image[:, :, j] = (image[:, :, j] + np.random.uniform(0, 1)) / 2.0\n",
    "\n",
    "        # Invert the colors at the location of the number\n",
    "        image[batch_binary[i]] = 1 - image[batch_binary[i]]\n",
    "        batch[i] = image\n",
    "\n",
    "        datas.append(image)\n",
    "        labels.append(label[i])\n",
    "    "
   ]
  },
  {
   "cell_type": "code",
   "execution_count": 69,
   "metadata": {},
   "outputs": [
    {
     "name": "stdout",
     "output_type": "stream",
     "text": [
      "(28, 28, 3)\n",
      "[[[0.57975661 0.33107946 0.6323204 ]\n",
      "  [0.5997346  0.34216389 0.62972937]\n",
      "  [0.5997246  0.34072331 0.63093985]\n",
      "  ...\n",
      "  [0.59092108 0.33955285 0.63039963]\n",
      "  [0.59843408 0.34520511 0.63468135]\n",
      "  [0.60169539 0.3544488  0.6460559 ]]\n",
      "\n",
      " [[0.58561896 0.32485697 0.62146606]\n",
      "  [0.60055493 0.34170371 0.63360091]\n",
      "  [0.60161536 0.34153364 0.63028959]\n",
      "  ...\n",
      "  [0.62831604 0.5116817  0.77445726]\n",
      "  [0.61470059 0.49099342 0.76625397]\n",
      "  [0.57970659 0.37651763 0.67966934]]\n",
      "\n",
      " [[0.59032084 0.33540118 0.63201028]\n",
      "  [0.61079903 0.33935277 0.62479739]\n",
      "  [0.60559695 0.34460487 0.63133001]\n",
      "  ...\n",
      "  [0.62251371 0.50264808 0.76234241]\n",
      "  [0.62566497 0.5094308  0.76388303]\n",
      "  [0.640731   0.52776813 0.78272056]]\n",
      "\n",
      " ...\n",
      "\n",
      " [[0.55306594 0.29292419 0.59769655]\n",
      "  [0.5139703  0.25675973 0.59421516]\n",
      "  [0.69077102 0.55946081 0.76573377]\n",
      "  ...\n",
      "  [0.61678142 0.44825633 0.76623397]\n",
      "  [0.58850011 0.41365249 0.76524357]\n",
      "  [0.53281784 0.37897862 0.75737042]]\n",
      "\n",
      " [[0.55570699 0.29710587 0.60386902]\n",
      "  [0.53191748 0.27670771 0.5953256 ]\n",
      "  [0.65825801 0.49505505 0.70984141]\n",
      "  ...\n",
      "  [0.47390427 0.30700983 0.69617594]\n",
      "  [0.49027082 0.32895861 0.70998147]\n",
      "  [0.42099311 0.25881055 0.65537963]]\n",
      "\n",
      " [[0.55127522 0.29070331 0.59947726]\n",
      "  [0.53362816 0.2904332  0.59869695]\n",
      "  [0.59399231 0.38488098 0.65453929]\n",
      "  ...\n",
      "  [0.47711556 0.32125553 0.72168615]\n",
      "  [0.46746169 0.32278614 0.70779059]\n",
      "  [0.46716157 0.30423872 0.69361492]]]\n",
      "(28, 28, 3)\n",
      "[[[0.44005788 0.27960521 0.34973433]\n",
      "  [0.48468573 0.34565163 0.40248543]\n",
      "  [0.41974976 0.27027148 0.33313769]\n",
      "  ...\n",
      "  [0.6583452  0.45039353 0.40248543]\n",
      "  [0.6510923  0.43561762 0.3959028 ]\n",
      "  [0.65240282 0.44514143 0.40297563]]\n",
      "\n",
      " [[0.45821515 0.319071   0.38387799]\n",
      "  [0.47066012 0.32849477 0.40391601]\n",
      "  [0.46227677 0.31061762 0.35507647]\n",
      "  ...\n",
      "  [0.66354728 0.46543955 0.41193921]\n",
      "  [0.66177657 0.46162802 0.40529656]\n",
      "  [0.66211671 0.47414303 0.42057267]]\n",
      "\n",
      " [[0.49838121 0.37986532 0.4383998 ]\n",
      "  [0.42815312 0.2753135  0.32412409]\n",
      "  [0.39868133 0.23334671 0.28755946]\n",
      "  ...\n",
      "  [0.66677857 0.46775047 0.40370592]\n",
      "  [0.66755888 0.47978529 0.42372393]\n",
      "  [0.66431759 0.4773243  0.41637099]]\n",
      "\n",
      " ...\n",
      "\n",
      " [[0.38670654 0.23027548 0.29008047]\n",
      "  [0.44393943 0.2953215  0.35455626]\n",
      "  [0.43407549 0.28284651 0.3484038 ]\n",
      "  ...\n",
      "  [0.62943363 0.35872686 0.32272353]\n",
      "  [0.63593623 0.3713219  0.33611889]\n",
      "  [0.63628637 0.38177608 0.33706927]]\n",
      "\n",
      " [[0.43178457 0.26560962 0.31696122]\n",
      "  [0.44205868 0.2958217  0.35245542]\n",
      "  [0.41267693 0.25386492 0.31318971]\n",
      "  ...\n",
      "  [0.63632639 0.36738032 0.32412409]\n",
      "  [0.63514592 0.3585768  0.31497043]\n",
      "  [0.63937761 0.3743131  0.33056667]]\n",
      "\n",
      " [[0.38861731 0.23462722 0.27706526]\n",
      "  [0.37658249 0.21466924 0.26033857]\n",
      "  [0.4036033  0.24498136 0.2996443 ]\n",
      "  ...\n",
      "  [0.63857729 0.36747036 0.32202325]\n",
      "  [0.64287901 0.37404299 0.32346382]\n",
      "  [0.63906749 0.37295255 0.32107287]]]\n",
      "(28, 28, 3)\n",
      "[[[0.48490632 0.57026774 0.53934021]\n",
      "  [0.4760928  0.58401324 0.5793062 ]\n",
      "  [0.46692913 0.58006166 0.57311372]\n",
      "  ...\n",
      "  [0.2668591  0.4711681  0.57716534]\n",
      "  [0.21387791 0.4101537  0.50551668]\n",
      "  [0.45927607 0.63221252 0.61727138]]\n",
      "\n",
      " [[0.5103465  0.64747863 0.59088083]\n",
      "  [0.48175506 0.59082596 0.5668112 ]\n",
      "  [0.42007039 0.50753265 0.52541464]\n",
      "  ...\n",
      "  [0.29304958 0.48396322 0.57286362]\n",
      "  [0.4785938  0.62799083 0.58917014]\n",
      "  [0.45048255 0.62056786 0.62990644]]\n",
      "\n",
      " [[0.506615   0.63926534 0.58762953]\n",
      "  [0.50267343 0.65198043 0.59040063]\n",
      "  [0.40566462 0.49176634 0.52237342]\n",
      "  ...\n",
      "  [0.42972425 0.57946142 0.59578279]\n",
      "  [0.45745534 0.63728455 0.64793365]\n",
      "  [0.50594474 0.72407927 0.68714933]]\n",
      "\n",
      " ...\n",
      "\n",
      " [[0.24223925 0.42355906 0.51846186]\n",
      "  [0.28746735 0.44703845 0.50971836]\n",
      "  [0.25321364 0.40969351 0.48150708]\n",
      "  ...\n",
      "  [0.50480428 0.60746262 0.60067474]\n",
      "  [0.50330368 0.60980356 0.60525658]\n",
      "  [0.49575066 0.58281276 0.57866594]]\n",
      "\n",
      " [[0.26849976 0.45897322 0.55414613]\n",
      "  [0.24433009 0.39861908 0.4910609 ]\n",
      "  [0.47818363 0.61772672 0.58921016]\n",
      "  ...\n",
      "  [0.50406398 0.60157026 0.60133501]\n",
      "  [0.50608479 0.6089132  0.60591684]\n",
      "  [0.50144294 0.59598803 0.59466234]]\n",
      "\n",
      " [[0.35018243 0.5651557  0.65310572]\n",
      "  [0.27392193 0.43459347 0.52816574]\n",
      "  [0.35377387 0.49919931 0.55397606]\n",
      "  ...\n",
      "  [0.50416402 0.59914929 0.60143505]\n",
      "  [0.50517443 0.6051717  0.60500648]\n",
      "  [0.49742133 0.59722853 0.59676318]]]\n",
      "(28, 28, 3)\n",
      "[[[0.46989538 0.58246793 0.23248302]\n",
      "  [0.47375692 0.58324824 0.2271909 ]\n",
      "  [0.47875892 0.58270802 0.2304322 ]\n",
      "  ...\n",
      "  [0.53347081 0.72736588 0.28276313]\n",
      "  [0.5597113  0.81785208 0.3591937 ]\n",
      "  [0.5627125  0.83072723 0.38245301]]\n",
      "\n",
      " [[0.47221631 0.58864039 0.23853544]\n",
      "  [0.47914908 0.58181766 0.22451983]\n",
      "  [0.47573772 0.58391851 0.23270311]\n",
      "  ...\n",
      "  [0.49628593 0.63055716 0.24210687]\n",
      "  [0.55811066 0.7921618  0.32997202]\n",
      "  [0.56050162 0.827666   0.37567029]]\n",
      "\n",
      " [[0.47438717 0.58222783 0.22884156]\n",
      "  [0.47562767 0.58078725 0.22833136]\n",
      "  [0.47376693 0.58172763 0.23198282]\n",
      "  ...\n",
      "  [0.49256445 0.62270402 0.23979595]\n",
      "  [0.52353683 0.69707377 0.27751103]\n",
      "  [0.56079174 0.80916861 0.35610247]]\n",
      "\n",
      " ...\n",
      "\n",
      " [[0.47361687 0.66360038 0.32888158]\n",
      "  [0.46155204 0.64381246 0.30808326]\n",
      "  [0.49589578 0.71929265 0.34375753]\n",
      "  ...\n",
      "  [0.25189818 0.44069121 0.17311927]\n",
      "  [0.27600782 0.45779806 0.1759304 ]\n",
      "  [0.2579506  0.4536664  0.18754504]]\n",
      "\n",
      " [[0.30765048 0.5134003  0.23633456]\n",
      "  [0.50954124 0.74242191 0.36191479]\n",
      "  [0.4837009  0.66745192 0.30186077]\n",
      "  ...\n",
      "  [0.25199822 0.43192771 0.15684276]\n",
      "  [0.27308665 0.45518701 0.17550023]\n",
      "  [0.25617989 0.45279606 0.192427  ]]\n",
      "\n",
      " [[0.47733836 0.68949073 0.31284516]\n",
      "  [0.47730834 0.68832027 0.34432776]\n",
      "  [0.51981535 0.78336829 0.39269711]\n",
      "  ...\n",
      "  [0.27064568 0.4509053  0.17176873]\n",
      "  [0.24388497 0.44006096 0.17287918]\n",
      "  [0.30429914 0.49017101 0.21674673]]]\n",
      "(28, 28, 3)\n",
      "[[[0.92448612 0.85748187 0.47358598]\n",
      "  [0.92062457 0.85857231 0.47757758]\n",
      "  [0.92641689 0.86509492 0.47628706]\n",
      "  ...\n",
      "  [0.66089068 0.5055511  0.22773764]\n",
      "  [0.67754734 0.51776598 0.23180927]\n",
      "  [0.68639088 0.51873637 0.23127906]]\n",
      "\n",
      " [[0.92599672 0.85664153 0.46982448]\n",
      "  [0.93050853 0.86718575 0.47752756]\n",
      "  [0.92232525 0.85687163 0.471135  ]\n",
      "  ...\n",
      "  [0.66266139 0.50994285 0.23082888]\n",
      "  [0.68947211 0.52859031 0.24025265]\n",
      "  [0.68472021 0.52282801 0.23720143]]\n",
      "\n",
      " [[0.9224353  0.85683161 0.47321583]\n",
      "  [0.92408596 0.85914253 0.46890411]\n",
      "  [0.92464618 0.86448467 0.47947834]\n",
      "  ...\n",
      "  [0.67042449 0.51846626 0.2348705 ]\n",
      "  [0.68438007 0.52300808 0.23551075]\n",
      "  [0.68456015 0.52334822 0.23702136]]\n",
      "\n",
      " ...\n",
      "\n",
      " [[0.94392389 0.77565914 0.39422424]\n",
      "  [0.94451413 0.77662953 0.39171323]\n",
      "  [0.94877583 0.79799808 0.40569883]\n",
      "  ...\n",
      "  [0.89812557 0.75326018 0.35724945]\n",
      "  [0.89535446 0.75342025 0.36008058]\n",
      "  [0.89100272 0.74911852 0.35652916]]\n",
      "\n",
      " [[0.94190308 0.772798   0.38942232]\n",
      "  [0.94278344 0.77039704 0.38976245]\n",
      "  [0.9451844  0.78051108 0.38982248]\n",
      "  ...\n",
      "  [0.89725522 0.74558711 0.35016661]\n",
      "  [0.8919531  0.74127539 0.35281768]\n",
      "  [0.89252333 0.74262593 0.34971643]]\n",
      "\n",
      " [[0.91152093 0.70139944 0.3373915 ]\n",
      "  [0.93822161 0.73938463 0.36630307]\n",
      "  [0.94309356 0.76251388 0.37891812]\n",
      "  ...\n",
      "  [0.89926603 0.74282601 0.35265761]\n",
      "  [0.89462417 0.73682361 0.35199735]\n",
      "  [0.89297351 0.74000488 0.34781567]]]\n",
      "(28, 28, 3)\n",
      "[[[0.67717715 0.65918901 0.64648635]\n",
      "  [0.67261533 0.66101974 0.65003777]\n",
      "  [0.67306551 0.66072963 0.64890732]\n",
      "  ...\n",
      "  [0.66999428 0.65530746 0.64190452]\n",
      "  [0.66749328 0.65632787 0.64722665]\n",
      "  [0.66088064 0.64870482 0.64947755]]\n",
      "\n",
      " [[0.66752329 0.65231626 0.64306498]\n",
      "  [0.67822757 0.67211418 0.65966162]\n",
      "  [0.67706711 0.65987929 0.64983769]\n",
      "  ...\n",
      "  [0.66896387 0.65464719 0.64290492]\n",
      "  [0.66462213 0.65634787 0.64796695]\n",
      "  [0.6600303  0.65219621 0.64502577]]\n",
      "\n",
      " [[0.67824758 0.65503735 0.65030788]\n",
      "  [0.67006431 0.65537749 0.64648635]\n",
      "  [0.68106871 0.66828265 0.64839712]\n",
      "  ...\n",
      "  [0.67093466 0.65484727 0.64540592]\n",
      "  [0.66722317 0.65517741 0.64718663]\n",
      "  [0.65793946 0.6424223  0.64273485]]\n",
      "\n",
      " ...\n",
      "\n",
      " [[0.65916995 0.68051754 0.67729868]\n",
      "  [0.6302884  0.65013539 0.665614  ]\n",
      "  [0.68065855 0.6959137  0.68507179]\n",
      "  ...\n",
      "  [0.65593866 0.71427104 0.71976567]\n",
      "  [0.70616875 0.81978325 0.76726466]\n",
      "  [0.6927834  0.78398893 0.74619624]]\n",
      "\n",
      " [[0.61933402 0.63694011 0.65688051]\n",
      "  [0.67822757 0.69104175 0.67798895]\n",
      "  [0.67556651 0.68114779 0.66983569]\n",
      "  ...\n",
      "  [0.69502429 0.77353475 0.7326108 ]\n",
      "  [0.68508032 0.76623183 0.74954758]\n",
      "  [0.71056051 0.8414119  0.79925746]]\n",
      "\n",
      " [[0.66638284 0.67225424 0.67644834]\n",
      "  [0.67344566 0.67658597 0.67588811]\n",
      "  [0.65791945 0.67193411 0.6683651 ]\n",
      "  ...\n",
      "  [0.69765535 0.82145392 0.79565602]\n",
      "  [0.71449208 0.85285648 0.80687051]\n",
      "  [0.7065389  0.83723023 0.79743673]]]\n"
     ]
    },
    {
     "data": {
      "image/png": "[encoded data removed]",
      "text/plain": [
       "<Figure size 432x288 with 6 Axes>"
      ]
     },
     "metadata": {
      "needs_background": "light"
     },
     "output_type": "display_data"
    }
   ],
   "source": [
    "for i in range(6):\n",
    "    plt.subplot(2, 6 // 2, i+1)\n",
    "    data = cv2.resize(datas[i], dsize=(28,28))\n",
    "    print(data.shape)\n",
    "    # print(data)\n",
    "    plt.imshow(data)\n",
    "    plt.axis('off')\n",
    "\n",
    "plt.tight_layout()\n",
    "plt.show()"
   ]
  },
  {
   "cell_type": "code",
   "execution_count": 37,
   "metadata": {},
   "outputs": [],
   "source": [
    "# os.mkdir(\"./resources/color_images\")\n",
    "for i in range(10):\n",
    "    os.mkdir(\"./resources/color_images/\"+str(i))"
   ]
  },
  {
   "cell_type": "code",
   "execution_count": 82,
   "metadata": {},
   "outputs": [
    {
     "name": "stdout",
     "output_type": "stream",
     "text": [
      "(64, 64, 3)\n",
      "(28, 28, 3)\n"
     ]
    }
   ],
   "source": [
    "for i,data in enumerate(datas):\n",
    "    print(data.shape)\n",
    "    data = cv2.resize(data, dsize=(28,28))\n",
    "    print(data.shape)\n",
    "    break\n",
    "    # cv2.imwrite(\"./resources/color_images/\"+str(labels[i].item())+\"/\"+str(i)+\".jpg\", data*255)"
   ]
  },
  {
   "cell_type": "markdown",
   "metadata": {},
   "source": [
    "## test data load"
   ]
  },
  {
   "cell_type": "code",
   "execution_count": 78,
   "metadata": {},
   "outputs": [],
   "source": [
    "trans = transforms.Compose([transforms.ToTensor()])\n",
    "# trans = transforms.Compose([[transforms.Resize((28,28,3)),\n",
    "#                             transforms.ToTensor(),\n",
    "#                             transforms.Normalize((0.5,0.5,0.5),(0.5,0.5,0.5))]])\n",
    "trainset = torchvision.dataset = torchvision.datasets.ImageFolder('./resources/color_images', transform=trans)"
   ]
  },
  {
   "cell_type": "code",
   "execution_count": 47,
   "metadata": {},
   "outputs": [
    {
     "data": {
      "text/plain": [
       "60000"
      ]
     },
     "execution_count": 47,
     "metadata": {},
     "output_type": "execute_result"
    }
   ],
   "source": [
    "len(trainset)"
   ]
  },
  {
   "cell_type": "code",
   "execution_count": 48,
   "metadata": {},
   "outputs": [
    {
     "data": {
      "text/plain": [
       "['0', '1', '2', '3', '4', '5', '6', '7', '8', '9']"
      ]
     },
     "execution_count": 48,
     "metadata": {},
     "output_type": "execute_result"
    }
   ],
   "source": [
    "classes = trainset.classes\n",
    "classes"
   ]
  },
  {
   "cell_type": "code",
   "execution_count": 80,
   "metadata": {},
   "outputs": [],
   "source": [
    "# DataLoader를 통해 데이터 올리기\n",
    "trainloader = DataLoader(trainset, batch_size = 10)"
   ]
  },
  {
   "cell_type": "code",
   "execution_count": 84,
   "metadata": {},
   "outputs": [],
   "source": [
    "def imshow(img):\n",
    "    img = img.numpy()\n",
    "    plt.imshow(np.transpose(img,(1,2,0)))"
   ]
  },
  {
   "cell_type": "code",
   "execution_count": 85,
   "metadata": {},
   "outputs": [
    {
     "name": "stdout",
     "output_type": "stream",
     "text": [
      "torch.Size([10, 3, 28, 28])\n"
     ]
    },
    {
     "data": {
      "image/png": "[encoded data removed]",
      "text/plain": [
       "<Figure size 432x288 with 1 Axes>"
      ]
     },
     "metadata": {
      "needs_background": "light"
     },
     "output_type": "display_data"
    }
   ],
   "source": [
    "for i in trainloader:\n",
    "    image, label = i\n",
    "    print(image.shape)\n",
    "    for data in image:\n",
    "        imshow(data)\n",
    "        break\n",
    "    break"
   ]
  }
 ],
 "metadata": {
  "interpreter": {
   "hash": "adfefddda1a969bd9dcfe2c4c50def4ad2d282ed7db4641ef3c0ec315f71f3cc"
  },
  "kernelspec": {
   "display_name": "Python 3.8.11 ('ai21')",
   "language": "python",
   "name": "python3"
  },
  "language_info": {
   "codemirror_mode": {
    "name": "ipython",
    "version": 3
   },
   "file_extension": ".py",
   "mimetype": "text/x-python",
   "name": "python",
   "nbconvert_exporter": "python",
   "pygments_lexer": "ipython3",
   "version": "3.8.11"
  },
  "orig_nbformat": 4
 },
 "nbformat": 4,
 "nbformat_minor": 2
}
