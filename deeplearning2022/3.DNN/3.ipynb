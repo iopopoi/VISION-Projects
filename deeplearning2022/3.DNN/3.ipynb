{
 "cells": [
  {
   "cell_type": "markdown",
   "metadata": {},
   "source": [
    "# Deep Neural Network<br>\n",
    "Deep neural network 구현"
   ]
  },
  {
   "cell_type": "markdown",
   "metadata": {},
   "source": [
    "## MNIST dataset 불러 오기 및 시각화"
   ]
  },
  {
   "cell_type": "code",
   "execution_count": 73,
   "metadata": {},
   "outputs": [],
   "source": [
    "from __future__ import print_function\n",
    "\n",
    "import torch\n",
    "from torch import nn\n",
    "from torch import optim\n",
    "import numpy as np\n",
    "\n",
    "import time\n",
    "\n",
    "# dataset\n",
    "import torchvision \n",
    "from torchvision import datasets\n",
    "from torchvision import transforms\n",
    "\n",
    "import pandas as pd\n",
    "import matplotlib.pyplot as plt\n"
   ]
  },
  {
   "cell_type": "markdown",
   "metadata": {},
   "source": [
    "## Hyperparameter\n",
    "modeling 과정에서 직접 설정하는 값입니다.<br>\n",
    "- batch_size\n",
    "- learning rate : 학습률(gradient를 통해 weight를 이동, 변화시키는 정도)\n",
    "- epoch_nums : 학습을 반복하는 횟수\n",
    "- batch size : 한번의 batch마다 주어지는 data sample의 size (batch: 나누어진 dataset)\n",
    "- momentum : weight의 update과정에서 관성, 가속도를 주어 감소, 증가하는 방향으로 더 많은 변화를 준다."
   ]
  },
  {
   "cell_type": "code",
   "execution_count": 74,
   "metadata": {},
   "outputs": [],
   "source": [
    "batch_size = 12\n",
    "# batch_size = 32\n",
    "learning_rate = 0.01\n",
    "# learning_rate = 0.05\n",
    "# learning_rate = 0.1\n",
    "epoch_num = 10\n",
    "# epoch_num = 20"
   ]
  },
  {
   "cell_type": "markdown",
   "metadata": {},
   "source": [
    "## MNIST dataset\n",
    "### torchvision.datasets.MNIST = (root=\"\", train=\"\", dawnload=\"\",trasform =\"\")\n",
    "root = \"data의 경로\" <br>\n",
    "train = True(학습용 데이터) or False(test용 데이터) <br>\n",
    "tramsform - 데이터 형태 <br>\n",
    "download = True(MNIST dataset이 없으면 다운로드한다.) <br>"
   ]
  },
  {
   "cell_type": "code",
   "execution_count": 75,
   "metadata": {},
   "outputs": [],
   "source": [
    "train_data = datasets.MNIST(root= '..\\datasets', train= True, download= True, transform= transforms.ToTensor())\n",
    "test_data = datasets.MNIST(root= '..\\datasets', train= False, download= True, transform= transforms.ToTensor())\n",
    "\n",
    "train_loader = torch.utils.data.DataLoader(train_data, batch_size=batch_size, shuffle=True)\n",
    "test_loader = torch.utils.data.DataLoader(test_data, batch_size=batch_size)"
   ]
  },
  {
   "cell_type": "markdown",
   "metadata": {},
   "source": [
    "# Deep Neural Network\n",
    "input layer와 ouput layer사이에 hidden layer를 2개이상 지닌 neural network을 의미합니다.\n",
    "- 분류와 수치예측을 주목적으로 하여 이미지 학습과 문자인식에 유용하게 사용되고 있는 신경망입니다.\n",
    "\n",
    "## Using squential \n",
    "squential하여 내부  module에 접급하지 않는다."
   ]
  },
  {
   "cell_type": "markdown",
   "metadata": {},
   "source": [
    "## Using ModuleList\n",
    "Module을 리스트 형태로 담을 때 사용합니다. ModuleList에서는 module하나하나에 접근이 가능하다."
   ]
  },
  {
   "cell_type": "code",
   "execution_count": 76,
   "metadata": {},
   "outputs": [],
   "source": [
    "# Using ModuleList\n",
    "class DeepNN_ML(nn.Module):\n",
    "    def __init__(self):\n",
    "        super(DeepNN_ML, self).__init__()\n",
    "\n",
    "        self.in_dim = 28 * 28 # MNIST\n",
    "        self.out_dim = 10 # 0 ~ 9\n",
    "\n",
    "        self.list = nn.ModuleList([\n",
    "            nn.Linear(in_features = self.in_dim, out_features = 512),\n",
    "            nn.ReLU(),\n",
    "            nn.Linear(in_features = 512, out_features = 256),\n",
    "            nn.ReLU(),\n",
    "            nn.Linear(in_features = 256, out_features = 128),\n",
    "            nn.ReLU(),\n",
    "            nn.Linear(in_features = 128, out_features = 64),\n",
    "            nn.ReLU(),\n",
    "\n",
    "            nn.Linear(in_features = 64, out_features = self.out_dim)\n",
    "        ])\n",
    "\n",
    "    def forward(self, x):\n",
    "        fw = x.view(-1, self.in_dim)\n",
    "        for i, module in enumerate(self.list):\n",
    "            fw = module(fw)\n",
    "\n",
    "        return fw\n",
    "\n"
   ]
  },
  {
   "cell_type": "code",
   "execution_count": 77,
   "metadata": {},
   "outputs": [],
   "source": [
    "# Using ModuleList\n",
    "class DeepNN_ML(nn.Module):\n",
    "    def __init__(self, hidden_units=[512, 256, 128, 64]):\n",
    "        super(DeepNN_ML, self).__init__()\n",
    "\n",
    "        self.in_dim = 28 * 28 # MNIST\n",
    "        self.out_dim = 10 # 0 ~ 9\n",
    "\n",
    "        self.len = len(hidden_units) - 2\n",
    "        \n",
    "        self.relu = nn.ReLU()\n",
    "        self.fl = nn.Linear(in_features = hidden_units[-1], out_features = self.out_dim)\n",
    "\n",
    "        hidden_units.insert(0, self.in_dim)\n",
    "        \n",
    "        self.list = nn.ModuleList([\n",
    "            nn.Linear(in_features = in_f, out_features = out_f) for in_f, out_f in zip(hidden_units, hidden_units[1:])\n",
    "        ])  \n",
    "\n",
    "\n",
    "    def forward(self, x):\n",
    "        fw = x.view(-1, self.in_dim)\n",
    "        for i, module in enumerate(self.list):\n",
    "            fw = self.relu(module(fw))\n",
    "            \n",
    "        fw = self.fl(fw)\n",
    "        return fw\n",
    "\n"
   ]
  },
  {
   "cell_type": "code",
   "execution_count": 78,
   "metadata": {},
   "outputs": [],
   "source": [
    "# model_ML = DeepNN_ML()\n",
    "# criterion = nn.CrossEntropyLoss()\n",
    "# optimizer = optim.SGD(model_ML.parameters(), lr = learning_rate)\n",
    "# for epoch in range(epoch_num):\n",
    "#     running_loss = 0.0\n",
    "#     for i, data in enumerate(train_loader,0):\n",
    "#         # get the inputs: data is a list of [input, label]\n",
    "#         inputs, labels = data\n",
    "\n",
    "#         # zero the parameter gradients\n",
    "#         optimizer.zero_grad()\n",
    "\n",
    "#         # forward, backward, optimizer\n",
    "#         outputs = model_ML(inputs)\n",
    "#         loss = criterion(outputs, labels) # loss\n",
    "#         loss.backward() # backward\n",
    "#         optimizer.step()\n",
    "\n",
    "#         # print statistics\n",
    "#         running_loss += loss.item()\n",
    "#         if (i+1) % 2000 == 0 : # print every 2000 mini-batch\n",
    "#             print(\"[%d, %5d] loss: %.3f\" % (epoch+1, i+1, running_loss/2000) )\n",
    "#             running_loss = 0.0\n",
    "# print(\"Finished training\")\n"
   ]
  },
  {
   "cell_type": "code",
   "execution_count": 79,
   "metadata": {},
   "outputs": [
    {
     "name": "stdout",
     "output_type": "stream",
     "text": [
      "[1,  2000] loss: 0.833\n",
      "[1,  4000] loss: 0.368\n",
      "[2,  2000] loss: 0.309\n",
      "[2,  4000] loss: 0.270\n",
      "[3,  2000] loss: 0.243\n",
      "[3,  4000] loss: 0.230\n",
      "[4,  2000] loss: 0.200\n",
      "[4,  4000] loss: 0.194\n",
      "[5,  2000] loss: 0.174\n",
      "[5,  4000] loss: 0.163\n",
      "[6,  2000] loss: 0.151\n",
      "[6,  4000] loss: 0.141\n",
      "[7,  2000] loss: 0.124\n",
      "[7,  4000] loss: 0.130\n",
      "[8,  2000] loss: 0.111\n",
      "[8,  4000] loss: 0.115\n",
      "[9,  2000] loss: 0.108\n",
      "[9,  4000] loss: 0.101\n",
      "[10,  2000] loss: 0.094\n",
      "[10,  4000] loss: 0.092\n",
      "Finished training Networt # of layers: [784, 256]\n",
      "[1,  2000] loss: 1.046\n",
      "[1,  4000] loss: 0.370\n",
      "[2,  2000] loss: 0.291\n",
      "[2,  4000] loss: 0.247\n",
      "[3,  2000] loss: 0.203\n",
      "[3,  4000] loss: 0.182\n",
      "[4,  2000] loss: 0.155\n",
      "[4,  4000] loss: 0.145\n",
      "[5,  2000] loss: 0.131\n",
      "[5,  4000] loss: 0.114\n",
      "[6,  2000] loss: 0.101\n",
      "[6,  4000] loss: 0.103\n",
      "[7,  2000] loss: 0.093\n",
      "[7,  4000] loss: 0.080\n",
      "[8,  2000] loss: 0.075\n",
      "[8,  4000] loss: 0.076\n",
      "[9,  2000] loss: 0.062\n",
      "[9,  4000] loss: 0.066\n",
      "[10,  2000] loss: 0.056\n",
      "[10,  4000] loss: 0.057\n",
      "Finished training Networt # of layers: [784, 256, 64]\n",
      "[1,  2000] loss: 1.604\n",
      "[1,  4000] loss: 0.469\n",
      "[2,  2000] loss: 0.304\n",
      "[2,  4000] loss: 0.251\n",
      "[3,  2000] loss: 0.190\n",
      "[3,  4000] loss: 0.161\n",
      "[4,  2000] loss: 0.136\n",
      "[4,  4000] loss: 0.123\n",
      "[5,  2000] loss: 0.101\n",
      "[5,  4000] loss: 0.102\n",
      "[6,  2000] loss: 0.083\n",
      "[6,  4000] loss: 0.083\n",
      "[7,  2000] loss: 0.066\n",
      "[7,  4000] loss: 0.066\n",
      "[8,  2000] loss: 0.055\n",
      "[8,  4000] loss: 0.056\n",
      "[9,  2000] loss: 0.046\n",
      "[9,  4000] loss: 0.049\n",
      "[10,  2000] loss: 0.040\n",
      "[10,  4000] loss: 0.040\n",
      "Finished training Networt # of layers: [784, 256, 128, 64]\n",
      "[1,  2000] loss: 2.187\n",
      "[1,  4000] loss: 0.758\n",
      "[2,  2000] loss: 0.324\n",
      "[2,  4000] loss: 0.229\n",
      "[3,  2000] loss: 0.164\n",
      "[3,  4000] loss: 0.138\n",
      "[4,  2000] loss: 0.109\n",
      "[4,  4000] loss: 0.104\n",
      "[5,  2000] loss: 0.082\n",
      "[5,  4000] loss: 0.078\n",
      "[6,  2000] loss: 0.061\n",
      "[6,  4000] loss: 0.065\n",
      "[7,  2000] loss: 0.050\n",
      "[7,  4000] loss: 0.053\n",
      "[8,  2000] loss: 0.041\n",
      "[8,  4000] loss: 0.040\n",
      "[9,  2000] loss: 0.029\n",
      "[9,  4000] loss: 0.034\n",
      "[10,  2000] loss: 0.023\n",
      "[10,  4000] loss: 0.029\n",
      "Finished training Networt # of layers: [784, 512, 256, 128, 64]\n",
      "[1,  2000] loss: 2.298\n",
      "[1,  4000] loss: 1.948\n",
      "[2,  2000] loss: 0.466\n",
      "[2,  4000] loss: 0.307\n",
      "[3,  2000] loss: 0.191\n",
      "[3,  4000] loss: 0.165\n",
      "[4,  2000] loss: 0.119\n",
      "[4,  4000] loss: 0.120\n",
      "[5,  2000] loss: 0.088\n",
      "[5,  4000] loss: 0.092\n",
      "[6,  2000] loss: 0.062\n",
      "[6,  4000] loss: 0.069\n",
      "[7,  2000] loss: 0.046\n",
      "[7,  4000] loss: 0.052\n",
      "[8,  2000] loss: 0.032\n",
      "[8,  4000] loss: 0.043\n",
      "[9,  2000] loss: 0.029\n",
      "[9,  4000] loss: 0.032\n",
      "[10,  2000] loss: 0.022\n",
      "[10,  4000] loss: 0.023\n",
      "Finished training Networt # of layers: [784, 512, 256, 128, 64, 32]\n"
     ]
    }
   ],
   "source": [
    "HiddenUnitsList = HiddenUnitsList = [[256],[256,64],[256,128,64],[512,256,128,64],[512,256,128,64,32]]\n",
    "ModelList = []\n",
    "for hidden_units in HiddenUnitsList:\n",
    "    model = DeepNN_ML(hidden_units)\n",
    "    ModelList.append(model)\n",
    "\n",
    "    criterion = nn.CrossEntropyLoss()\n",
    "    optimizer = optim.SGD(ModelList[-1].parameters(), lr = learning_rate)\n",
    "\n",
    "    for epoch in range(epoch_num):\n",
    "        running_loss = 0.0\n",
    "        for i, data in enumerate(train_loader,0):\n",
    "            # get the inputs: data is a list of [input, label]\n",
    "            inputs, labels = data\n",
    "\n",
    "            # zero the parameter gradients\n",
    "            optimizer.zero_grad()\n",
    "\n",
    "            # forward, backward, optimizer\n",
    "            outputs = ModelList[-1](inputs)\n",
    "            loss = criterion(outputs, labels) # loss\n",
    "            loss.backward() # backward\n",
    "            optimizer.step()\n",
    "\n",
    "            # print statistics\n",
    "            running_loss += loss.item()\n",
    "            if (i+1) % 2000 == 0 : # print every 2000 mini-batch\n",
    "                print(\"[%d, %5d] loss: %.3f\" % (epoch+1, i+1, running_loss/2000) )\n",
    "                running_loss = 0.0\n",
    "\n",
    "    print(\"Finished training Networt # of layers:\", hidden_units)"
   ]
  },
  {
   "cell_type": "markdown",
   "metadata": {},
   "source": [
    "TEST"
   ]
  },
  {
   "cell_type": "code",
   "execution_count": 80,
   "metadata": {},
   "outputs": [],
   "source": [
    "# def imshow(img):\n",
    "#     npimg = img.numpy()\n",
    "#     plt.imshow(np.transpose(npimg, (1, 2, 0)))\n",
    "#     plt.show()\n"
   ]
  },
  {
   "cell_type": "code",
   "execution_count": 81,
   "metadata": {},
   "outputs": [],
   "source": [
    "# dataiter = iter(test_loader)\n",
    "# images, labels = dataiter.next()\n",
    "\n",
    "# imshow(torchvision.utils.make_grid(images, nrow = batch_size))\n",
    "# print('GroundTruth')\n",
    "# print(\"  \"+'  '.join('%3s' % label.item() for label in labels))\n",
    "# model_ML.epochs = 10\n",
    "# outputs = model_ML(images) \n",
    "# _, predicted = torch.max(outputs, 1) \n",
    "# print(\"Prediction\")\n",
    "# print(\"  \"+'  '.join('%3s' % label.item() for label in predicted))\n"
   ]
  },
  {
   "cell_type": "code",
   "execution_count": 82,
   "metadata": {},
   "outputs": [],
   "source": [
    "# n_predict = 0\n",
    "# n_correct = 0\n",
    "# model_ML.epochs = 10\n",
    "# for data in test_loader:\n",
    "#     inputs, labels = data\n",
    "#     outputs = model_ML(inputs)\n",
    "#     _, predicted = torch.max(outputs, 1)\n",
    "\n",
    "#     n_predict += len(predicted)\n",
    "#     n_correct += (labels == predicted).sum()\n",
    "\n",
    "# print(f\"{n_correct}/{n_predict}\")\n",
    "# print(f\"Accuracy:{n_correct/n_predict:.3f}\")\n",
    "\n"
   ]
  },
  {
   "cell_type": "code",
   "execution_count": 83,
   "metadata": {},
   "outputs": [
    {
     "name": "stdout",
     "output_type": "stream",
     "text": [
      "9696/10000\n",
      "Accuracy:0.970\n",
      "9751/10000\n",
      "Accuracy:0.975\n",
      "9748/10000\n",
      "Accuracy:0.975\n",
      "9783/10000\n",
      "Accuracy:0.978\n",
      "9739/10000\n",
      "Accuracy:0.974\n"
     ]
    }
   ],
   "source": [
    "Accuracy = []\n",
    "for i,model in enumerate(ModelList):\n",
    "    n_predict = 0\n",
    "    n_correct = 0\n",
    "    model.epochs = 10\n",
    "    for data in test_loader:\n",
    "        inputs, labels = data\n",
    "        outputs = model(inputs)\n",
    "        _, predicted = torch.max(outputs, 1)\n",
    "\n",
    "        n_predict += len(predicted)\n",
    "        n_correct += (labels == predicted).sum()\n",
    "\n",
    "    print(f\"{n_correct}/{n_predict}\")\n",
    "    print(f\"Accuracy:{n_correct/n_predict:.3f}\")\n",
    "    Accuracy.append(n_correct/n_predict)"
   ]
  },
  {
   "cell_type": "code",
   "execution_count": 84,
   "metadata": {},
   "outputs": [],
   "source": [
    "# AND, OR, XOP paremeter들의 학습과정에서 얻는 cost들을 graph로 표현한다.\n",
    "def graph(data):\n",
    "    plt.figure(figsize=(18,6))\n",
    "    plt.plot(range(2,7),data)\n",
    "    \n",
    "\n"
   ]
  },
  {
   "cell_type": "code",
   "execution_count": 85,
   "metadata": {},
   "outputs": [
    {
     "data": {
      "image/png": "[encoded data removed]",
      "text/plain": [
       "<Figure size 1296x432 with 1 Axes>"
      ]
     },
     "metadata": {
      "needs_background": "light"
     },
     "output_type": "display_data"
    }
   ],
   "source": [
    "graph(Accuracy)"
   ]
  }
 ],
 "metadata": {
  "interpreter": {
   "hash": "a699302accf0dd49589cc59e863a793f2e26d9be8786b40f18cd587a7dd1ecfb"
  },
  "kernelspec": {
   "display_name": "Python 3.8.11 64-bit ('ai21': conda)",
   "name": "python3"
  },
  "language_info": {
   "codemirror_mode": {
    "name": "ipython",
    "version": 3
   },
   "file_extension": ".py",
   "mimetype": "text/x-python",
   "name": "python",
   "nbconvert_exporter": "python",
   "pygments_lexer": "ipython3",
   "version": "3.8.11"
  },
  "orig_nbformat": 4
 },
 "nbformat": 4,
 "nbformat_minor": 2
}
